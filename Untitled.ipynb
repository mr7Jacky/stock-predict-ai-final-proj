{
 "cells": [
  {
   "cell_type": "code",
   "execution_count": 1,
   "metadata": {},
   "outputs": [],
   "source": [
    "%matplotlib widget\n",
    "import os\n",
    "\n",
    "import gym\n",
    "import numpy as np\n",
    "import pandas as pd\n",
    "import tensorflow as tf\n",
    "import seaborn as sns\n",
    "import matplotlib.pyplot as plt\n",
    "import matplotlib.ticker as mtick\n",
    "\n",
    "\n",
    "import sys\n",
    "sys.path.insert(1, './agent')\n",
    "sys.path.insert(1, './price_pred')\n",
    "\n",
    "import stock_env\n",
    "from QLAgent import QNAgent\n",
    "from helper import *\n",
    "from run import *\n"
   ]
  },
  {
   "cell_type": "code",
   "execution_count": 2,
   "metadata": {},
   "outputs": [],
   "source": [
    "sample_size = 10\n",
    "seeds = np.random.randint(0,1000,size=sample_size)\n",
    "len_windows = [0.6, 0.7, 0.3]\n",
    "worths = {}"
   ]
  },
  {
   "cell_type": "code",
   "execution_count": null,
   "metadata": {},
   "outputs": [
    {
     "name": "stdout",
     "output_type": "stream",
     "text": [
      "1040.0309273738321\n"
     ]
    }
   ],
   "source": [
    "for l in len_windows:\n",
    "    cur_worth_l = []\n",
    "    for i in range(sample_size):\n",
    "        losses, worth = run(seeds[i], l)\n",
    "        worth_mean = np.mean(worth,axis=-1)\n",
    "        cur_worth_l.append(worth_mean)\n",
    "    worths[l] = cur_worth_l\n",
    "    fname = str(l) + '.dat'\n",
    "    np.savetxt(fname, cur_worth_l, fmt='%.5f')\n",
    "    print(np.mean(cur_worth_l))"
   ]
  },
  {
   "cell_type": "code",
   "execution_count": null,
   "metadata": {},
   "outputs": [],
   "source": [
    "numpy.savetxt(fname, cur_worth_l, fmt='%.5f')"
   ]
  }
 ],
 "metadata": {
  "kernelspec": {
   "display_name": "Python 3",
   "language": "python",
   "name": "python3"
  },
  "language_info": {
   "codemirror_mode": {
    "name": "ipython",
    "version": 3
   },
   "file_extension": ".py",
   "mimetype": "text/x-python",
   "name": "python",
   "nbconvert_exporter": "python",
   "pygments_lexer": "ipython3",
   "version": "3.7.3"
  }
 },
 "nbformat": 4,
 "nbformat_minor": 4
}
