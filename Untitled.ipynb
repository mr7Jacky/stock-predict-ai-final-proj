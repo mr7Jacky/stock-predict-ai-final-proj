{
 "cells": [
  {
   "cell_type": "code",
   "execution_count": 11,
   "metadata": {},
   "outputs": [],
   "source": [
    "%matplotlib widget\n",
    "import pickle\n",
    "import pandas as pd\n",
    "import numpy as np\n",
    "import matplotlib.pyplot as plt\n",
    "import pandas as pd\n",
    "from sklearn.preprocessing import RobustScaler\n",
    "# Technical Analysis library\n",
    "import ta\n",
    "# Neural Network library\n",
    "import keras "
   ]
  },
  {
   "cell_type": "code",
   "execution_count": 37,
   "metadata": {},
   "outputs": [],
   "source": [
    "data = pd.read_csv(\"./data/INFY.csv\", date_parser=True)"
   ]
  },
  {
   "cell_type": "code",
   "execution_count": 38,
   "metadata": {},
   "outputs": [],
   "source": [
    "# Load param\n",
    "param = pickle.load(open('pretrained_models/pred/param', 'rb'))\n",
    "# Load\n",
    "close_scaler = RobustScaler()\n",
    "# Load model from pretrain model\n",
    "model = keras.models.load_model('pretrained_models/pred/pred_lstm')\n",
    "scaler = RobustScaler()"
   ]
  },
  {
   "cell_type": "code",
   "execution_count": 39,
   "metadata": {},
   "outputs": [
    {
     "name": "stderr",
     "output_type": "stream",
     "text": [
      "/home/jl057/.local/lib/python3.7/site-packages/ta/trend.py:768: RuntimeWarning: invalid value encountered in double_scalars\n",
      "  dip[i] = 100 * (self._dip[i] / self._trs[i])\n",
      "/home/jl057/.local/lib/python3.7/site-packages/ta/trend.py:772: RuntimeWarning: invalid value encountered in double_scalars\n",
      "  din[i] = 100 * (self._din[i] / self._trs[i])\n"
     ]
    }
   ],
   "source": [
    "# Datetime conversion\n",
    "data['Date'] = pd.to_datetime(data['Date'])\n",
    "# Setting the index\n",
    "data.set_index('Date', inplace=True)\n",
    "# Dropping any NaNs\n",
    "data.dropna(inplace=True)\n",
    "# Technical Indicators\n",
    "# Adding all the indicators\n",
    "data = ta.add_all_ta_features(data, open=\"Open\", high=\"High\", low=\"Low\",\n",
    "                              close=\"Close\", volume=\"Volume\", fillna=True)\n",
    "# Dropping everything else besides 'Close' and the Indicators\n",
    "data.drop(['Open', 'High', 'Low', 'Adj Close', 'Volume'], axis=1, inplace=True)\n",
    "# Only using the last 1000 days of data to get a more accurate representation of the current market climate\n",
    "data = data.tail(1000)\n",
    "close_scaler.fit(data[['Close']])\n",
    "data = pd.DataFrame(scaler.fit_transform(data), columns=data.columns, index=data.index)\n",
    "df = data\n",
    "n_features = df.shape[1]"
   ]
  },
  {
   "cell_type": "code",
   "execution_count": 41,
   "metadata": {},
   "outputs": [
    {
     "name": "stdout",
     "output_type": "stream",
     "text": [
      "90 30 84\n"
     ]
    }
   ],
   "source": [
    "n_per_in, n_per_out, n_features = param\n",
    "print(n_per_in, n_per_out, n_features)"
   ]
  },
  {
   "cell_type": "code",
   "execution_count": 45,
   "metadata": {},
   "outputs": [
    {
     "data": {
      "application/vnd.jupyter.widget-view+json": {
       "model_id": "b8bdbb2323e14e86a6b0c4258cb3e350",
       "version_major": 2,
       "version_minor": 0
      },
      "text/plain": [
       "Canvas(toolbar=Toolbar(toolitems=[('Home', 'Reset original view', 'home', 'home'), ('Back', 'Back to previous …"
      ]
     },
     "metadata": {},
     "output_type": "display_data"
    }
   ],
   "source": [
    "# Predicting off of the most recent days from the original DF\n",
    "y_hat = model.predict(np.array(df.tail(n_per_in)).reshape(1, n_per_in, n_features))\n",
    "# Transforming the predicted values back to their original format\n",
    "y_hat = close_scaler.inverse_transform(y_hat)[0]\n",
    "# Creating a DF of the predicted prices\n",
    "preds = pd.DataFrame(y_hat, index=pd.date_range(start=df.index[-1] + timedelta(days=1),\n",
    "                                                periods=len(y_hat), freq=\"B\"),\n",
    "                     columns=[df.columns[0]])\n",
    "# Number of periods back to plot the actual values\n",
    "pers = n_per_in\n",
    "# Transforming the actual values to their original price\n",
    "actual = pd.DataFrame(close_scaler.inverse_transform(df[[\"Close\"]].tail(pers)),\n",
    "                      index=df.Close.tail(pers).index,\n",
    "                      columns=[df.columns[0]]).append(preds.head(1))\n",
    "# Printing the predicted prices\n",
    "# Plotting\n",
    "plt.figure(figsize=(8, 4))\n",
    "plt.plot(actual, label=\"Actual Prices\")\n",
    "plt.plot(preds, label=\"Predicted Prices\")\n",
    "plt.ylabel(\"Price\")\n",
    "plt.xlabel(\"Dates\")\n",
    "plt.title(f\"Forecasting the next {len(y_hat)} days\")\n",
    "plt.legend()\n",
    "plt.show()"
   ]
  },
  {
   "cell_type": "code",
   "execution_count": 48,
   "metadata": {},
   "outputs": [],
   "source": [
    "plt.savefig('_pred.png', dpi=300)"
   ]
  },
  {
   "cell_type": "code",
   "execution_count": 49,
   "metadata": {},
   "outputs": [],
   "source": [
    "preds.to_csv('pred.csv')"
   ]
  },
  {
   "cell_type": "code",
   "execution_count": null,
   "metadata": {},
   "outputs": [],
   "source": []
  }
 ],
 "metadata": {
  "kernelspec": {
   "display_name": "Python 3",
   "language": "python",
   "name": "python3"
  },
  "language_info": {
   "codemirror_mode": {
    "name": "ipython",
    "version": 3
   },
   "file_extension": ".py",
   "mimetype": "text/x-python",
   "name": "python",
   "nbconvert_exporter": "python",
   "pygments_lexer": "ipython3",
   "version": "3.7.3"
  }
 },
 "nbformat": 4,
 "nbformat_minor": 4
}
