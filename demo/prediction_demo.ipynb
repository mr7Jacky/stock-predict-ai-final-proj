{
 "cells": [
  {
   "cell_type": "code",
   "execution_count": null,
   "metadata": {},
   "outputs": [],
   "source": [
    "%matplotlib widget\n",
    "import sys\n",
    "sys.path.insert(1, '../')\n",
    "sys.path.insert(1, '../agent')\n",
    "sys.path.insert(1, '../price_pred')\n",
    "from nn import NN\n",
    "import pickle\n",
    "import pandas as pd\n",
    "from sklearn.model_selection import train_test_split\n",
    "import numpy as np\n",
    "import matplotlib.pyplot as plt\n",
    "import pandas as pd\n",
    "from datetime import timedelta\n",
    "from sklearn.preprocessing import RobustScaler\n",
    "# Technical Analysis library\n",
    "import ta\n",
    "import keras"
   ]
  },
  {
   "cell_type": "code",
   "execution_count": null,
   "metadata": {},
   "outputs": [],
   "source": [
    "#Loading in the Data\n",
    "nn = NN()\n",
    "df = pd.read_csv(\"../data/AAPL.csv\", date_parser=True)\n",
    "df.head()"
   ]
  },
  {
   "cell_type": "code",
   "execution_count": null,
   "metadata": {},
   "outputs": [],
   "source": [
    "def data_by_date(df, start_date=None, end_date=None):\n",
    "    if start_date == None:\n",
    "        start_date = df.Date[0]\n",
    "    if end_date == None:\n",
    "        end_date = df.Date[-1]\n",
    "    after_start_date = df[\"Date\"] >= start_date\n",
    "    before_end_date = df[\"Date\"] <= end_date\n",
    "    between_two_dates = after_start_date & before_end_date\n",
    "    filtered_dates = df.loc[between_two_dates]\n",
    "    return filtered_dates.copy()"
   ]
  },
  {
   "cell_type": "code",
   "execution_count": null,
   "metadata": {},
   "outputs": [],
   "source": [
    "df_f = data_by_date(df, end_date=\"2020-06-01\")"
   ]
  },
  {
   "cell_type": "code",
   "execution_count": null,
   "metadata": {},
   "outputs": [],
   "source": [
    "nn.preprocess(df_f)\n",
    "# Splitting the data into appropriate sequences\n",
    "x, y = nn.split_sequence(nn.df.to_numpy())"
   ]
  },
  {
   "cell_type": "markdown",
   "metadata": {},
   "source": [
    "1. Model: DRNN\n",
    "2. Loss: The Huber loss function weighs outliers less than the Mean Squared Error loss function.\n",
    "3. Optimizer: Adam"
   ]
  },
  {
   "cell_type": "code",
   "execution_count": null,
   "metadata": {},
   "outputs": [],
   "source": [
    "# Using DRNN Model (Stacked LSTM Arc)\n",
    "nn.build_drnn()"
   ]
  },
  {
   "cell_type": "code",
   "execution_count": null,
   "metadata": {},
   "outputs": [],
   "source": [
    "# Using Simple LSTM Model\n",
    "nn.build_lstm()"
   ]
  },
  {
   "cell_type": "code",
   "execution_count": null,
   "metadata": {},
   "outputs": [],
   "source": [
    "result = nn.model.fit(x, y, epochs=50, batch_size=128, validation_split=0.1, verbose=0)"
   ]
  },
  {
   "cell_type": "code",
   "execution_count": null,
   "metadata": {},
   "outputs": [],
   "source": [
    "nn.visualize_training_results(result)"
   ]
  },
  {
   "cell_type": "code",
   "execution_count": null,
   "metadata": {},
   "outputs": [],
   "source": [
    "nn.prediction_vs_actual()\n",
    "nn.forecast_future()"
   ]
  },
  {
   "cell_type": "code",
   "execution_count": null,
   "metadata": {},
   "outputs": [],
   "source": [
    "nn.model.save('pred_lstm')"
   ]
  },
  {
   "cell_type": "code",
   "execution_count": null,
   "metadata": {},
   "outputs": [],
   "source": [
    "param = (nn.n_per_in, nn.n_per_out, nn.n_features)\n",
    "pickle.dump(nn.close_scalar, open('scaler', 'wb'))\n",
    "pickle.dump(param, open('param', 'wb'))"
   ]
  }
 ],
 "metadata": {
  "kernelspec": {
   "display_name": "Python 3",
   "language": "python",
   "name": "python3"
  },
  "language_info": {
   "codemirror_mode": {
    "name": "ipython",
    "version": 3
   },
   "file_extension": ".py",
   "mimetype": "text/x-python",
   "name": "python",
   "nbconvert_exporter": "python",
   "pygments_lexer": "ipython3",
   "version": "3.7.3"
  }
 },
 "nbformat": 4,
 "nbformat_minor": 4
}
