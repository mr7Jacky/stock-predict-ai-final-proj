{
 "cells": [
  {
   "cell_type": "code",
   "execution_count": 1,
   "metadata": {},
   "outputs": [],
   "source": [
    "%matplotlib widget\n",
    "from lstm import NN\n",
    "import pandas as pd\n",
    "from sklearn.model_selection import train_test_split\n",
    "import numpy as np\n",
    "import matplotlib.pyplot as plt\n",
    "import pandas as pd\n",
    "from datetime import timedelta\n",
    "from sklearn.preprocessing import RobustScaler\n",
    "# Technical Analysis library\n",
    "import ta\n",
    "# Neural Network library\n",
    "from keras import Model\n",
    "from keras.models import Sequential, clone_model\n",
    "from keras.layers import LSTM, Dense, Dropout, Input, Reshape, Concatenate"
   ]
  },
  {
   "cell_type": "code",
   "execution_count": 2,
   "metadata": {},
   "outputs": [],
   "source": [
    "from keras_visualizer import visualizer "
   ]
  },
  {
   "cell_type": "code",
   "execution_count": 3,
   "metadata": {},
   "outputs": [
    {
     "data": {
      "text/html": [
       "<div>\n",
       "<style scoped>\n",
       "    .dataframe tbody tr th:only-of-type {\n",
       "        vertical-align: middle;\n",
       "    }\n",
       "\n",
       "    .dataframe tbody tr th {\n",
       "        vertical-align: top;\n",
       "    }\n",
       "\n",
       "    .dataframe thead th {\n",
       "        text-align: right;\n",
       "    }\n",
       "</style>\n",
       "<table border=\"1\" class=\"dataframe\">\n",
       "  <thead>\n",
       "    <tr style=\"text-align: right;\">\n",
       "      <th></th>\n",
       "      <th>Date</th>\n",
       "      <th>Open</th>\n",
       "      <th>High</th>\n",
       "      <th>Low</th>\n",
       "      <th>Close</th>\n",
       "      <th>Adj Close</th>\n",
       "      <th>Volume</th>\n",
       "    </tr>\n",
       "  </thead>\n",
       "  <tbody>\n",
       "    <tr>\n",
       "      <th>0</th>\n",
       "      <td>1980-12-12</td>\n",
       "      <td>0.128348</td>\n",
       "      <td>0.128906</td>\n",
       "      <td>0.128348</td>\n",
       "      <td>0.128348</td>\n",
       "      <td>0.100922</td>\n",
       "      <td>469033600</td>\n",
       "    </tr>\n",
       "    <tr>\n",
       "      <th>1</th>\n",
       "      <td>1980-12-15</td>\n",
       "      <td>0.122210</td>\n",
       "      <td>0.122210</td>\n",
       "      <td>0.121652</td>\n",
       "      <td>0.121652</td>\n",
       "      <td>0.095657</td>\n",
       "      <td>175884800</td>\n",
       "    </tr>\n",
       "    <tr>\n",
       "      <th>2</th>\n",
       "      <td>1980-12-16</td>\n",
       "      <td>0.113281</td>\n",
       "      <td>0.113281</td>\n",
       "      <td>0.112723</td>\n",
       "      <td>0.112723</td>\n",
       "      <td>0.088636</td>\n",
       "      <td>105728000</td>\n",
       "    </tr>\n",
       "    <tr>\n",
       "      <th>3</th>\n",
       "      <td>1980-12-17</td>\n",
       "      <td>0.115513</td>\n",
       "      <td>0.116071</td>\n",
       "      <td>0.115513</td>\n",
       "      <td>0.115513</td>\n",
       "      <td>0.090830</td>\n",
       "      <td>86441600</td>\n",
       "    </tr>\n",
       "    <tr>\n",
       "      <th>4</th>\n",
       "      <td>1980-12-18</td>\n",
       "      <td>0.118862</td>\n",
       "      <td>0.119420</td>\n",
       "      <td>0.118862</td>\n",
       "      <td>0.118862</td>\n",
       "      <td>0.093463</td>\n",
       "      <td>73449600</td>\n",
       "    </tr>\n",
       "  </tbody>\n",
       "</table>\n",
       "</div>"
      ],
      "text/plain": [
       "         Date      Open      High       Low     Close  Adj Close     Volume\n",
       "0  1980-12-12  0.128348  0.128906  0.128348  0.128348   0.100922  469033600\n",
       "1  1980-12-15  0.122210  0.122210  0.121652  0.121652   0.095657  175884800\n",
       "2  1980-12-16  0.113281  0.113281  0.112723  0.112723   0.088636  105728000\n",
       "3  1980-12-17  0.115513  0.116071  0.115513  0.115513   0.090830   86441600\n",
       "4  1980-12-18  0.118862  0.119420  0.118862  0.118862   0.093463   73449600"
      ]
     },
     "execution_count": 3,
     "metadata": {},
     "output_type": "execute_result"
    }
   ],
   "source": [
    "# # Loading in the Data\n",
    "# import os, sys\n",
    "# sys.path.append(\"../stock_env/\")\n",
    "# from account import Account\n",
    "# acc = Account(\"../stock_env/stock_info/\")\n",
    "nn = NN()\n",
    "df = pd.read_csv(\"data/AAPL.csv\", date_parser=True)\n",
    "df.head()"
   ]
  },
  {
   "cell_type": "code",
   "execution_count": 4,
   "metadata": {},
   "outputs": [],
   "source": [
    "def data_by_date(df, start_date=None, end_date=None):\n",
    "    if start_date == None:\n",
    "        start_date = df.Date[0]\n",
    "    if end_date == None:\n",
    "        end_date = df.Date[-1]\n",
    "    after_start_date = df[\"Date\"] >= start_date\n",
    "    before_end_date = df[\"Date\"] <= end_date\n",
    "    between_two_dates = after_start_date & before_end_date\n",
    "    filtered_dates = df.loc[between_two_dates]\n",
    "    return filtered_dates.copy()"
   ]
  },
  {
   "cell_type": "code",
   "execution_count": 5,
   "metadata": {},
   "outputs": [],
   "source": [
    "df_f = data_by_date(df, end_date=\"2020-06-01\")"
   ]
  },
  {
   "cell_type": "code",
   "execution_count": 6,
   "metadata": {},
   "outputs": [
    {
     "name": "stderr",
     "output_type": "stream",
     "text": [
      "/home/jl057/.local/lib/python3.7/site-packages/ta/trend.py:768: RuntimeWarning: invalid value encountered in double_scalars\n",
      "  dip[i] = 100 * (self._dip[i] / self._trs[i])\n",
      "/home/jl057/.local/lib/python3.7/site-packages/ta/trend.py:772: RuntimeWarning: invalid value encountered in double_scalars\n",
      "  din[i] = 100 * (self._din[i] / self._trs[i])\n"
     ]
    }
   ],
   "source": [
    "nn.preprocess(df_f)\n",
    "# Splitting the data into appropriate sequences\n",
    "x, y = nn.split_sequence(nn.df.to_numpy())"
   ]
  },
  {
   "cell_type": "markdown",
   "metadata": {},
   "source": [
    "1. Model: DRNN\n",
    "2. Loss: The Huber loss function weighs outliers less than the Mean Squared Error loss function.\n",
    "3. Optimizer: Adam"
   ]
  },
  {
   "cell_type": "code",
   "execution_count": 7,
   "metadata": {},
   "outputs": [
    {
     "name": "stdout",
     "output_type": "stream",
     "text": [
      "Model: \"sequential\"\n",
      "_________________________________________________________________\n",
      "Layer (type)                 Output Shape              Param #   \n",
      "=================================================================\n",
      "lstm (LSTM)                  (None, 90, 128)           109056    \n",
      "_________________________________________________________________\n",
      "lstm_1 (LSTM)                (None, 90, 256)           394240    \n",
      "_________________________________________________________________\n",
      "dropout (Dropout)            (None, 90, 256)           0         \n",
      "_________________________________________________________________\n",
      "lstm_2 (LSTM)                (None, 90, 512)           1574912   \n",
      "_________________________________________________________________\n",
      "dropout_1 (Dropout)          (None, 90, 512)           0         \n",
      "_________________________________________________________________\n",
      "lstm_3 (LSTM)                (None, 90, 256)           787456    \n",
      "_________________________________________________________________\n",
      "dropout_2 (Dropout)          (None, 90, 256)           0         \n",
      "_________________________________________________________________\n",
      "lstm_4 (LSTM)                (None, 90, 128)           197120    \n",
      "_________________________________________________________________\n",
      "dropout_3 (Dropout)          (None, 90, 128)           0         \n",
      "_________________________________________________________________\n",
      "lstm_5 (LSTM)                (None, 90, 64)            49408     \n",
      "_________________________________________________________________\n",
      "dropout_4 (Dropout)          (None, 90, 64)            0         \n",
      "_________________________________________________________________\n",
      "lstm_6 (LSTM)                (None, 32)                12416     \n",
      "_________________________________________________________________\n",
      "dense (Dense)                (None, 30)                990       \n",
      "=================================================================\n",
      "Total params: 3,125,598\n",
      "Trainable params: 3,125,598\n",
      "Non-trainable params: 0\n",
      "_________________________________________________________________\n"
     ]
    }
   ],
   "source": [
    "# Activation\n",
    "nn.model = Sequential()\n",
    "activation = \"tanh\"\n",
    "# Input layer\n",
    "nn.model.add(LSTM(128, activation=activation,\n",
    "                    return_sequences=True,\n",
    "                    input_shape=(nn.n_per_in, nn.n_features)))\n",
    "# Hidden layers\n",
    "nn.model.add(LSTM(256, activation=activation, return_sequences=True))\n",
    "nn.model.add(Dropout(0.25))\n",
    "nn.model.add(LSTM(512, activation=activation, return_sequences=True))\n",
    "nn.model.add(Dropout(0.25))\n",
    "nn.model.add(LSTM(256, activation=activation, return_sequences=True))\n",
    "nn.model.add(Dropout(0.25))\n",
    "nn.model.add(LSTM(128, activation=activation, return_sequences=True))\n",
    "nn.model.add(Dropout(0.25))\n",
    "nn.model.add(LSTM(64, activation=activation, return_sequences=True))\n",
    "nn.model.add(Dropout(0.25))\n",
    "# Final Hidden layer\n",
    "nn.model.add(LSTM(32, activation=activation))\n",
    "# Output layer\n",
    "nn.model.add(Dense(nn.n_per_out))\n",
    "# Model summary\n",
    "nn.model.summary()\n",
    "# Compiling the data with selected specifications\n",
    "nn.model.compile(optimizer='adam', loss='huber')"
   ]
  },
  {
   "cell_type": "code",
   "execution_count": 8,
   "metadata": {},
   "outputs": [],
   "source": [
    "result = nn.model.fit(x, y, epochs=50, batch_size=128, validation_split=0.1, verbose=0)"
   ]
  },
  {
   "cell_type": "code",
   "execution_count": 9,
   "metadata": {},
   "outputs": [
    {
     "data": {
      "application/vnd.jupyter.widget-view+json": {
       "model_id": "96a470ee0ff14945adc64bef36baf06e",
       "version_major": 2,
       "version_minor": 0
      },
      "text/plain": [
       "Canvas(toolbar=Toolbar(toolitems=[('Home', 'Reset original view', 'home', 'home'), ('Back', 'Back to previous …"
      ]
     },
     "metadata": {},
     "output_type": "display_data"
    }
   ],
   "source": [
    "nn.visualize_training_results(result)"
   ]
  },
  {
   "cell_type": "code",
   "execution_count": 10,
   "metadata": {},
   "outputs": [
    {
     "name": "stdout",
     "output_type": "stream",
     "text": [
      "RMSE: 1.9146821692495264\n"
     ]
    },
    {
     "data": {
      "application/vnd.jupyter.widget-view+json": {
       "model_id": "c79cf56b2e584f8dbe8896e8836fb5b7",
       "version_major": 2,
       "version_minor": 0
      },
      "text/plain": [
       "Canvas(toolbar=Toolbar(toolitems=[('Home', 'Reset original view', 'home', 'home'), ('Back', 'Back to previous …"
      ]
     },
     "metadata": {},
     "output_type": "display_data"
    },
    {
     "data": {
      "application/vnd.jupyter.widget-view+json": {
       "model_id": "e6f96704d3c64986b90a537fa63d35f4",
       "version_major": 2,
       "version_minor": 0
      },
      "text/plain": [
       "Canvas(toolbar=Toolbar(toolitems=[('Home', 'Reset original view', 'home', 'home'), ('Back', 'Back to previous …"
      ]
     },
     "metadata": {},
     "output_type": "display_data"
    }
   ],
   "source": [
    "nn.prediction_vs_actual()\n",
    "nn.forecast_future()"
   ]
  },
  {
   "cell_type": "code",
   "execution_count": null,
   "metadata": {},
   "outputs": [],
   "source": [
    "# Transforming the actual values to their original price\n",
    "actual = pd.DataFrame(self.close_scalar.inverse_transform(self.df[[\"Close\"]]),\n",
    "                      index=self.df.index,\n",
    "                      columns=[self.df.columns[0]])\n",
    "# Getting a DF of the predicted values to validate against\n",
    "predictions = self.validater()\n",
    "# Printing the RMSE\n",
    "print(\"RMSE:\", self.val_rmse(actual, predictions))\n",
    "# Plotting\n",
    "plt.figure(figsize=(8, 4))\n",
    "# Plotting those predictions\n",
    "plt.plot(predictions, label='Predicted')\n",
    "# Plotting the actual values\n",
    "plt.plot(actual, label='Actual')\n",
    "plt.title(f\"Predicted vs Actual Closing Prices\")\n",
    "plt.ylabel(\"Price\")\n",
    "plt.legend()\n",
    "plt.show()"
   ]
  }
 ],
 "metadata": {
  "kernelspec": {
   "display_name": "Python 3",
   "language": "python",
   "name": "python3"
  },
  "language_info": {
   "codemirror_mode": {
    "name": "ipython",
    "version": 3
   },
   "file_extension": ".py",
   "mimetype": "text/x-python",
   "name": "python",
   "nbconvert_exporter": "python",
   "pygments_lexer": "ipython3",
   "version": "3.7.3"
  }
 },
 "nbformat": 4,
 "nbformat_minor": 4
}
