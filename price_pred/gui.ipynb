{
 "cells": [
  {
   "cell_type": "code",
   "execution_count": 9,
   "id": "2bd5a6c0-099b-46f5-8889-69295e0baa25",
   "metadata": {},
   "outputs": [],
   "source": [
    "from nn import NN\n",
    "import pandas as pd\n",
    "from sklearn.model_selection import train_test_split\n",
    "import numpy as np\n",
    "import matplotlib.pyplot as plt\n",
    "import pandas as pd\n",
    "from datetime import timedelta\n",
    "from sklearn.preprocessing import RobustScaler\n",
    "# Technical Analysis library\n",
    "import ta\n",
    "# Neural Network library\n",
    "from keras import Model\n",
    "from keras.models import Sequential, clone_model, load_model\n",
    "from keras.layers import LSTM, Dense, Dropout, Input, Reshape, Concatenate\n",
    "#For gui\n",
    "import tkinter as tk\n",
    "from matplotlib.backends.backend_tkagg import FigureCanvasTkAgg\n",
    "#useless\n",
    "import random"
   ]
  },
  {
   "cell_type": "code",
   "execution_count": 10,
   "id": "64c7c8eb-8f0a-438f-b383-dff0ca72d254",
   "metadata": {},
   "outputs": [],
   "source": [
    "n_per_in = 90\n",
    "n_per_out = 30\n",
    "n_features = 0\n",
    "close_scalar = RobustScaler()"
   ]
  },
  {
   "cell_type": "code",
   "execution_count": 11,
   "id": "bac2fe4a-cf80-4711-bafa-a387230c1e4e",
   "metadata": {},
   "outputs": [],
   "source": [
    "#TODO: loded model\n",
    "loaded_model = Sequential()\n",
    "loaded_model.add(Dense(90, input_shape=(n_per_in, n_features)))\n",
    "loaded_model.add(Dense(n_per_out))\n",
    "loaded_model.compile(optimizer='adam', loss='mse', metrics=['accuracy'])\n",
    "df = pd.read_csv(\"../data/AAPL.csv\", date_parser=True)"
   ]
  },
  {
   "cell_type": "code",
   "execution_count": 17,
   "id": "a1da21df-7554-463a-8372-c4ae583f5486",
   "metadata": {},
   "outputs": [],
   "source": [
    "def OnButton(date_widget, figure):\n",
    "    input_date = date_widget.get()\n",
    "    start_index = df[df['Date']==input_date].index.values\n",
    "    #actual = \n",
    "    #validate and get predictions\n",
    "    #predictions = \n",
    "    #ax.plot(predictions, label='Predicted')\n",
    "    #ax.plot(actual, label='Actual')\n",
    "    figure.clf()\n",
    "    ax = figure.add_subplot(111)\n",
    "    ax.plot(np.array([[random.randint(1,5), random.randint(1,5)],[random.randint(1,5), random.randint(1,5)]]))\n",
    "    print(start_index)"
   ]
  },
  {
   "cell_type": "code",
   "execution_count": 18,
   "id": "9479aa43-399b-40c0-8fe3-9eb9f7f7a72e",
   "metadata": {},
   "outputs": [
    {
     "name": "stdout",
     "output_type": "stream",
     "text": [
      "[]\n"
     ]
    }
   ],
   "source": [
    "window = tk.Tk()\n",
    "date_label = tk.Label(text=\"Enter date (yyyy/mm/dd):\", master = window)\n",
    "date_label.pack()\n",
    "date = tk.Entry(master = window)\n",
    "date.pack()\n",
    "figure = plt.Figure(figsize=(6,5), dpi=100)\n",
    "chart_type = FigureCanvasTkAgg(figure, window)\n",
    "chart_type.get_tk_widget().pack()\n",
    "confirmButton = tk.Button(text=\"Predict!\", command=OnButton(date, figure))\n",
    "confirmButton.pack()\n",
    "window.mainloop()"
   ]
  },
  {
   "cell_type": "code",
   "execution_count": null,
   "id": "5438c4dc-bf8f-4bee-9de7-f8a28c33a00a",
   "metadata": {},
   "outputs": [],
   "source": []
  }
 ],
 "metadata": {
  "kernelspec": {
   "display_name": "Python 3",
   "language": "python",
   "name": "python3"
  },
  "language_info": {
   "codemirror_mode": {
    "name": "ipython",
    "version": 3
   },
   "file_extension": ".py",
   "mimetype": "text/x-python",
   "name": "python",
   "nbconvert_exporter": "python",
   "pygments_lexer": "ipython3",
   "version": "3.7.10"
  }
 },
 "nbformat": 4,
 "nbformat_minor": 5
}
