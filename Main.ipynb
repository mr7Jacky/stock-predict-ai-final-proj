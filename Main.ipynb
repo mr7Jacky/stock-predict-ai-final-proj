{
 "cells": [
  {
   "cell_type": "code",
   "execution_count": null,
   "metadata": {},
   "outputs": [],
   "source": [
    "import gym\n",
    "import numpy as np\n",
    "import pandas as pd\n",
    "import tensorflow as tf\n",
    "import seaborn as sns\n",
    "import matplotlib.pyplot as plt\n",
    "import matplotlib.ticker as mtick\n",
    "\n",
    "import os\n",
    "import sys\n",
    "sys.path.insert(1, '../agent')\n",
    "sys.path.insert(1, '../price_pred')\n",
    "\n",
    "import stock_env\n",
    "from QLAgent import QNAgent\n",
    "from helper import *"
   ]
  },
  {
   "cell_type": "code",
   "execution_count": null,
   "metadata": {},
   "outputs": [],
   "source": [
    "name_file_data = 'AAPL.csv'\n",
    "name_project = 'AXP_batch'\n",
    "env_name = 'StockEnv-v0'\n",
    "num_episodes = 10\n",
    "len_obs = 50\n",
    "len_window = 100\n",
    "interval = 1000\n",
    "load_model = False\n",
    "epoch_to_load = 10000\n",
    "name_model_weights = 'trading_weights'\n",
    "overlap = 20"
   ]
  },
  {
   "cell_type": "code",
   "execution_count": null,
   "metadata": {},
   "outputs": [],
   "source": [
    "path_models, path_imgs, path_stats = check_directories(name_project, len_obs, len_window)\n",
    "np.random.seed(42)\n",
    "# Read data you want to use for trading\n",
    "train_data, test_data = get_data(f'../data/{name_file_data}')\n",
    "\n",
    "# Create an instant\n",
    "env = gym.make(env_name, train_data=train_data, eval_data=test_data, len_obs=len_obs, len_window=len_window, init_balance=1000)\n",
    "print(f'Observation space: {env.observation_space}')\n",
    "print(f'Action space: {env.action_space}')\n",
    "\n",
    "# Create an agent\n",
    "agent = QNAgent(env)\n",
    "\n",
    "# Load model\n",
    "if load_model:\n",
    "    agent.load(path_models + name_model_weights + f'_{epoch_to_load}')\n",
    "    train_statistics = pd.read_csv(path_stats + 'train.csv')\n",
    "    test_statistics = pd.read_csv(path_stats + 'test.csv')\n",
    "    init_ep = epoch_to_load\n",
    "else:\n",
    "    init_ep = 0\n",
    "    train_statistics = pd.DataFrame()\n",
    "    test_statistics = pd.DataFrame()\n",
    "\n",
    "for ep in range(init_ep, args.num_episodes):\n",
    "    get_performance(env, agent, train_data=True, training=True, batch_size=1)\n",
    "    env.render(ep)\n",
    "\n",
    "    if (ep % args.interval == 0) and not((args.load_model==True) and (ep == args.epoch_to_load)):\n",
    "        agent.model.save_weights(path_models + args.name_model_weights + f'_{ep}')\n",
    "\n",
    "        overlap = args.overlap\n",
    "        results_train = np.empty(shape=(0, 3))\n",
    "        results_test = np.empty(shape=(0, 3))\n",
    "\n",
    "        size_test = ((len(env.eval_data)-env.len_obs-env.len_window) // overlap)+1\n",
    "        cagr_train, vol_train = get_performance(env, agent, train_data=True, training=False, batch_size=size_test)\n",
    "        results_train = np.array([np.tile(ep, size_test), cagr_train, vol_train]).transpose()\n",
    "\n",
    "        cagr_test, vol_test = get_performance(env, agent, train_data=False, training=False, overlap=overlap, batch_size=size_test)\n",
    "        results_test = np.array([np.tile(ep, size_test), cagr_test, vol_test]).transpose()\n",
    "\n",
    "        train_statistics = pd.concat([train_statistics, pd.DataFrame(results_train, columns=['epoch', 'cagr','volatility'])])\n",
    "        train_statistics.to_csv(path_stats+'train.csv', index=False)\n",
    "        test_statistics = pd.concat([test_statistics, pd.DataFrame(results_test, columns=['epoch', 'cagr','volatility'])])\n",
    "        test_statistics.to_csv(path_stats+'test.csv', index=False)\n",
    "\n",
    "        plot_stocks_trading_performance(results_train, path_imgs + f'train_cagr_vol_ep_{ep}',\n",
    "                                        color='royalblue', acc_title='Train')\n",
    "        plot_stocks_trading_performance(results_test, path_imgs + f'test_cagr_vol_ep_{ep}',\n",
    "                                        color='firebrick', acc_title='Test')"
   ]
  }
 ],
 "metadata": {
  "kernelspec": {
   "display_name": "Python 3",
   "language": "python",
   "name": "python3"
  },
  "language_info": {
   "codemirror_mode": {
    "name": "ipython",
    "version": 3
   },
   "file_extension": ".py",
   "mimetype": "text/x-python",
   "name": "python",
   "nbconvert_exporter": "python",
   "pygments_lexer": "ipython3",
   "version": "3.7.3"
  }
 },
 "nbformat": 4,
 "nbformat_minor": 4
}
