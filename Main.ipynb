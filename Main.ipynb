{
 "cells": [
  {
   "cell_type": "code",
   "execution_count": 1,
   "metadata": {},
   "outputs": [],
   "source": [
    "%matplotlib widget\n",
    "import gym\n",
    "import numpy as np\n",
    "import pandas as pd\n",
    "import tensorflow as tf\n",
    "import seaborn as sns\n",
    "import matplotlib.pyplot as plt\n",
    "import matplotlib.ticker as mtick\n",
    "\n",
    "import os\n",
    "import sys\n",
    "sys.path.insert(1, './agent')\n",
    "sys.path.insert(1, './price_pred')\n",
    "\n",
    "import stock_env\n",
    "from QLAgent import QNAgent\n",
    "from helper import *"
   ]
  },
  {
   "cell_type": "code",
   "execution_count": 129,
   "metadata": {},
   "outputs": [
    {
     "name": "stdout",
     "output_type": "stream",
     "text": [
      "(-0.4, -0.3, -0.2, -0.1, 0.0, 0.1, 0.2, 0.3, 0.4)\n"
     ]
    }
   ],
   "source": [
    "name_file_data = 'AAPL.csv'\n",
    "name_project = 'AAPL_batch'\n",
    "env_name = 'StockEnv-v0'\n",
    "name_model_weights = 'trading_weights'\n",
    "load_model = False #if we load model\n",
    "epoch_to_load = 10000 # num of epoch to load when loading previous data\n",
    "\n",
    "num_episodes = 50 # training epoches\n",
    "render_p = 10 # print frequency\n",
    "init_balance = 1000 # initial fund agent have\n",
    "\n",
    "len_obs = 90 # observation length, number of days the agent look back\n",
    "len_window = 1000 # num of times trained each time\n",
    "interval = 1 # interval of validation\n",
    "overlap = 20 # overlapping between two consecutive training data \n",
    "batch_size = 1000 \n",
    "a = [i/10 for i in range(-4,5,1)]\n",
    "print(tuple(a))\n",
    "action_list=tuple(a)\n",
    "seed = 42"
   ]
  },
  {
   "cell_type": "code",
   "execution_count": 114,
   "metadata": {},
   "outputs": [],
   "source": [
    "path_models, path_stats = check_directories(name_project, len_obs, len_window)\n",
    "np.random.seed(seed)\n",
    "tf.random.set_seed(seed)\n",
    "# Read data you want to use for trading\n",
    "train_data, test_data = get_data(f'./data/{name_file_data}')"
   ]
  },
  {
   "cell_type": "code",
   "execution_count": 115,
   "metadata": {},
   "outputs": [
    {
     "name": "stdout",
     "output_type": "stream",
     "text": [
      "Observation space: Box(-5000.0, 5000.0, (90, 1), float32)\n",
      "Action space: Discrete(17)\n"
     ]
    }
   ],
   "source": [
    "# Create an instant\n",
    "env = gym.make(env_name, train_data=train_data, eval_data=test_data, \n",
    "               len_obs=len_obs, len_window=len_window, init_balance=init_balance,\n",
    "               action_list=action_list)\n",
    "env.seed(seed)\n",
    "print(f'Observation space: {env.observation_space}')\n",
    "print(f'Action space: {env.action_space}')"
   ]
  },
  {
   "cell_type": "code",
   "execution_count": 116,
   "metadata": {},
   "outputs": [],
   "source": [
    "# Create an agent\n",
    "agent = QNAgent(env, discount_rate=0.5, learning_rate=0.01, epsilon=0.01)"
   ]
  },
  {
   "cell_type": "code",
   "execution_count": 117,
   "metadata": {},
   "outputs": [],
   "source": [
    "# Load model\n",
    "if load_model:\n",
    "    agent.load(path_models + name_model_weights + f'_{epoch_to_load}')\n",
    "    train_statistics = pd.read_csv(path_stats + 'train.csv')\n",
    "    test_statistics = pd.read_csv(path_stats + 'test.csv')\n",
    "    init_ep = epoch_to_load\n",
    "else:\n",
    "    init_ep = 0\n",
    "    train_statistics = pd.DataFrame()\n",
    "    test_statistics = pd.DataFrame()"
   ]
  },
  {
   "cell_type": "code",
   "execution_count": 118,
   "metadata": {},
   "outputs": [],
   "source": [
    "# Decay of epsilon\n",
    "initial_epsilon = 0.1\n",
    "delta_epsilon = 0.01"
   ]
  },
  {
   "cell_type": "code",
   "execution_count": 119,
   "metadata": {},
   "outputs": [],
   "source": [
    "def update_eps(t, initial_eps):\n",
    "    return initial_eps / (initial_eps + np.exp(initial_eps * t))"
   ]
  },
  {
   "cell_type": "code",
   "execution_count": 120,
   "metadata": {},
   "outputs": [
    {
     "name": "stdout",
     "output_type": "stream",
     "text": [
      "WARNING:tensorflow:Layer dense_16 is casting an input tensor from dtype float64 to the layer's dtype of float32, which is new behavior in TensorFlow 2.  The layer has dtype float32 because its dtype defaults to floatx.\n",
      "\n",
      "If you intended to run this layer in float32, you can safely ignore this warning. If in doubt, this warning is likely only an issue if you are porting a TensorFlow 1.X model to TensorFlow 2.\n",
      "\n",
      "To change all layers to have dtype float64 by default, call `tf.keras.backend.set_floatx('float64')`. To change just this layer, pass dtype='float64' to the layer constructor. If you are the author of this layer, you can disable autocasting by passing autocast=False to the base Layer constructor.\n",
      "\n",
      "\n",
      "ep 0 \n",
      "Profit: 15.407506832600001%\n",
      "Std: 0.43793148447571556\n",
      "\n",
      "ep 10 \n",
      "Profit: 0.6876549236000009%\n",
      "Std: 0.04935861855648913\n",
      "\n",
      "ep 20 \n",
      "Profit: 32.294640874%\n",
      "Std: 0.6565899869383895\n",
      "\n",
      "ep 30 \n",
      "Profit: 57.9640298092%\n",
      "Std: 1.0584142293086718\n",
      "\n",
      "ep 40 \n",
      "Profit: 54.2964158775%\n",
      "Std: 0.919630361003933\n"
     ]
    }
   ],
   "source": [
    "worth = []\n",
    "losses = []\n",
    "for ep in range(init_ep, num_episodes):\n",
    "    _, _, loss = get_performance(env, agent, train_data=True, training=True, batch_size=batch_size)\n",
    "    if (ep % render_p) == 0:\n",
    "        env.render(ep)\n",
    "#     if (ep % interval_epsilon) == 0:\n",
    "#         agent.epsilon -= delta_epsilon\n",
    "    worth.append(env.net_worth)\n",
    "    losses = np.concatenate((losses,loss))\n",
    "    if (ep % interval == 0) and not((load_model==True) and (ep == epoch_to_load)):\n",
    "        agent.model.save_weights(path_models)\n",
    "\n",
    "        overlap = overlap\n",
    "        results_train = np.empty(shape=(0, 3))\n",
    "        results_test = np.empty(shape=(0, 3))\n",
    "\n",
    "        size_test = ((len(env.eval_data)-env.len_obs-env.len_window) // overlap)+1\n",
    "        cagr_train, vol_train, _ = get_performance(env, agent, train_data=True, training=False, batch_size=size_test)\n",
    "        results_train = np.array([np.tile(ep, size_test), cagr_train, vol_train]).transpose()\n",
    "\n",
    "        cagr_test, vol_test, _ = get_performance(env, agent, train_data=False, training=False, overlap=overlap, batch_size=size_test)\n",
    "        results_test = np.array([np.tile(ep, size_test), cagr_test, vol_test]).transpose()\n",
    "\n",
    "        train_statistics = pd.concat([train_statistics, pd.DataFrame(results_train, columns=['epoch', 'cagr','volatility'])])\n",
    "        train_statistics.to_csv(path_stats+'train.csv', index=False)\n",
    "        test_statistics = pd.concat([test_statistics, pd.DataFrame(results_test, columns=['epoch', 'cagr','volatility'])])\n",
    "        test_statistics.to_csv(path_stats+'test.csv', index=False)"
   ]
  },
  {
   "cell_type": "markdown",
   "metadata": {},
   "source": [
    "        plot_stocks_trading_performance(results_train, path_imgs + f'train_cagr_vol_ep_{ep}',\n",
    "                                        color='royalblue', acc_title='Train')\n",
    "        plot_stocks_trading_performance(results_test, path_imgs + f'test_cagr_vol_ep_{ep}',\n",
    "                                        color='firebrick', acc_title='Test')"
   ]
  },
  {
   "cell_type": "code",
   "execution_count": 121,
   "metadata": {},
   "outputs": [
    {
     "data": {
      "application/vnd.jupyter.widget-view+json": {
       "model_id": "941621288da8433395984d1d51502234",
       "version_major": 2,
       "version_minor": 0
      },
      "text/plain": [
       "Canvas(toolbar=Toolbar(toolitems=[('Home', 'Reset original view', 'home', 'home'), ('Back', 'Back to previous …"
      ]
     },
     "metadata": {},
     "output_type": "display_data"
    }
   ],
   "source": [
    "plt.figure(figsize=(8,4))\n",
    "plt.plot(losses);\n",
    "#plt.boxplot(np.transpose(worth))"
   ]
  },
  {
   "cell_type": "code",
   "execution_count": 128,
   "metadata": {},
   "outputs": [
    {
     "data": {
      "application/vnd.jupyter.widget-view+json": {
       "model_id": "2ae81ac168194e568216f6463e072310",
       "version_major": 2,
       "version_minor": 0
      },
      "text/plain": [
       "Canvas(toolbar=Toolbar(toolitems=[('Home', 'Reset original view', 'home', 'home'), ('Back', 'Back to previous …"
      ]
     },
     "metadata": {},
     "output_type": "display_data"
    }
   ],
   "source": [
    "plt.figure(figsize=(8,4))\n",
    "k = worth\n",
    "plt.hist(np.array(k).flatten(), bins=range(500,2000,50))\n",
    "plt.show()"
   ]
  },
  {
   "cell_type": "code",
   "execution_count": 123,
   "metadata": {},
   "outputs": [
    {
     "data": {
      "application/vnd.jupyter.widget-view+json": {
       "model_id": "5b46e750ebeb42f99fe06591111040c7",
       "version_major": 2,
       "version_minor": 0
      },
      "text/plain": [
       "Canvas(toolbar=Toolbar(toolitems=[('Home', 'Reset original view', 'home', 'home'), ('Back', 'Back to previous …"
      ]
     },
     "metadata": {},
     "output_type": "display_data"
    }
   ],
   "source": [
    "all_worth = np.array(worth).flatten()\n",
    "min_w = np.min(worth).astype('int')\n",
    "max_w = np.max(worth).astype('int')\n",
    "plt.figure(figsize=(8,4))\n",
    "plt.hist(all_worth, bins=range(min_w,max_w,50))\n",
    "plt.show()"
   ]
  },
  {
   "cell_type": "code",
   "execution_count": 124,
   "metadata": {},
   "outputs": [
    {
     "data": {
      "application/vnd.jupyter.widget-view+json": {
       "model_id": "9e6cffab4ff547aa91a9168d785a691f",
       "version_major": 2,
       "version_minor": 0
      },
      "text/plain": [
       "Canvas(toolbar=Toolbar(toolitems=[('Home', 'Reset original view', 'home', 'home'), ('Back', 'Back to previous …"
      ]
     },
     "metadata": {},
     "output_type": "display_data"
    },
    {
     "data": {
      "text/plain": [
       "[<matplotlib.lines.Line2D at 0x7ff58c312fd0>]"
      ]
     },
     "execution_count": 124,
     "metadata": {},
     "output_type": "execute_result"
    }
   ],
   "source": [
    "precision = num_episodes\n",
    "threshold = 5000\n",
    "worth_mean = np.mean(worth,axis=-1)\n",
    "k = np.split(worth_mean, precision)\n",
    "k = np.mean(k, axis = -1)\n",
    "#k = [len(np.where(i > threshold)[0]) for i in worth]\n",
    "plt.figure(figsize=(8,4))\n",
    "plt.plot(k,'-')\n",
    "#plt.boxplot(np.transpose(worth))"
   ]
  },
  {
   "cell_type": "code",
   "execution_count": 127,
   "metadata": {},
   "outputs": [
    {
     "data": {
      "text/plain": [
       "1449.7164804733143"
      ]
     },
     "execution_count": 127,
     "metadata": {},
     "output_type": "execute_result"
    }
   ],
   "source": [
    "np.mean(worth[15:])"
   ]
  },
  {
   "cell_type": "code",
   "execution_count": null,
   "metadata": {},
   "outputs": [],
   "source": [
    "len_window = [1083.73046725658, 1185.8159730996667, 1449.7164804733143]"
   ]
  }
 ],
 "metadata": {
  "kernelspec": {
   "display_name": "Python 3",
   "language": "python",
   "name": "python3"
  },
  "language_info": {
   "codemirror_mode": {
    "name": "ipython",
    "version": 3
   },
   "file_extension": ".py",
   "mimetype": "text/x-python",
   "name": "python",
   "nbconvert_exporter": "python",
   "pygments_lexer": "ipython3",
   "version": "3.7.3"
  }
 },
 "nbformat": 4,
 "nbformat_minor": 4
}
