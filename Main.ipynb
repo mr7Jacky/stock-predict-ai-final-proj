{
 "cells": [
  {
   "cell_type": "code",
   "execution_count": 1,
   "metadata": {},
   "outputs": [],
   "source": [
    "import gym\n",
    "import numpy as np\n",
    "import pandas as pd\n",
    "import tensorflow as tf\n",
    "import seaborn as sns\n",
    "import matplotlib.pyplot as plt\n",
    "import matplotlib.ticker as mtick\n",
    "\n",
    "import os\n",
    "import sys\n",
    "sys.path.insert(1, './agent')\n",
    "sys.path.insert(1, './price_pred')\n",
    "\n",
    "import stock_env\n",
    "from QLAgent import QNAgent\n",
    "from helper import *"
   ]
  },
  {
   "cell_type": "code",
   "execution_count": 2,
   "metadata": {},
   "outputs": [],
   "source": [
    "name_file_data = 'AAPL.csv'\n",
    "name_project = 'AXP_batch'\n",
    "env_name = 'StockEnv-v0'\n",
    "num_episodes = 1000\n",
    "len_obs = 100\n",
    "len_window = 100\n",
    "interval = 10\n",
    "render_p = 100\n",
    "init_balance = 1000\n",
    "load_model = False\n",
    "epoch_to_load = 10000\n",
    "name_model_weights = 'trading_weights'\n",
    "overlap = 20\n",
    "batch_size = 1000\n",
    "action_list=(-0.20, -0.10, 0, 0.10, 0.20)"
   ]
  },
  {
   "cell_type": "code",
   "execution_count": 11,
   "metadata": {},
   "outputs": [],
   "source": [
    "path_models, path_stats = check_directories(name_project, len_obs, len_window)\n",
    "np.random.seed(42)\n",
    "# Read data you want to use for trading\n",
    "train_data, test_data = get_data(f'./data/{name_file_data}')"
   ]
  },
  {
   "cell_type": "code",
   "execution_count": 12,
   "metadata": {},
   "outputs": [
    {
     "name": "stdout",
     "output_type": "stream",
     "text": [
      "Observation space: Box(-5000.0, 5000.0, (100, 1), float32)\n",
      "Action space: Discrete(5)\n"
     ]
    }
   ],
   "source": [
    "# Create an instant\n",
    "env = gym.make(env_name, train_data=train_data, eval_data=test_data, \n",
    "               len_obs=len_obs, len_window=len_window, init_balance=init_balance,\n",
    "               action_list=action_list)\n",
    "print(f'Observation space: {env.observation_space}')\n",
    "print(f'Action space: {env.action_space}')"
   ]
  },
  {
   "cell_type": "code",
   "execution_count": 13,
   "metadata": {},
   "outputs": [],
   "source": [
    "# Create an agent\n",
    "agent = QNAgent(env, epsilon=1)"
   ]
  },
  {
   "cell_type": "code",
   "execution_count": 14,
   "metadata": {},
   "outputs": [],
   "source": [
    "# Load model\n",
    "if load_model:\n",
    "    agent.load(path_models + name_model_weights + f'_{epoch_to_load}')\n",
    "    train_statistics = pd.read_csv(path_stats + 'train.csv')\n",
    "    test_statistics = pd.read_csv(path_stats + 'test.csv')\n",
    "    init_ep = epoch_to_load\n",
    "else:\n",
    "    init_ep = 0\n",
    "    train_statistics = pd.DataFrame()\n",
    "    test_statistics = pd.DataFrame()"
   ]
  },
  {
   "cell_type": "code",
   "execution_count": null,
   "metadata": {},
   "outputs": [
    {
     "name": "stdout",
     "output_type": "stream",
     "text": [
      "WARNING:tensorflow:Layer dense_4 is casting an input tensor from dtype float64 to the layer's dtype of float32, which is new behavior in TensorFlow 2.  The layer has dtype float32 because its dtype defaults to floatx.\n",
      "\n",
      "If you intended to run this layer in float32, you can safely ignore this warning. If in doubt, this warning is likely only an issue if you are porting a TensorFlow 1.X model to TensorFlow 2.\n",
      "\n",
      "To change all layers to have dtype float64 by default, call `tf.keras.backend.set_floatx('float64')`. To change just this layer, pass dtype='float64' to the layer constructor. If you are the author of this layer, you can disable autocasting by passing autocast=False to the base Layer constructor.\n",
      "\n",
      "\n",
      "ep 0 \n",
      "Profit: 4.1953650619%\n",
      "Std: 0.17021134055487716\n",
      "\n",
      "ep 100 \n",
      "Profit: 4.8345930173%\n",
      "Std: 0.17937147891496125\n",
      "\n",
      "ep 200 \n",
      "Profit: 4.793615828300001%\n",
      "Std: 0.17037118880997\n",
      "\n",
      "ep 300 \n",
      "Profit: 5.5466530956%\n",
      "Std: 0.18169478791342725\n",
      "\n",
      "ep 400 \n",
      "Profit: 4.7656700952%\n",
      "Std: 0.1739756216940965\n"
     ]
    }
   ],
   "source": [
    "worth = []\n",
    "for ep in range(init_ep, num_episodes):\n",
    "    get_performance(env, agent, train_data=True, training=True, batch_size=batch_size)\n",
    "    if (ep % render_p) == 0:\n",
    "        env.render(ep)\n",
    "    worth.append(env.net_worth)\n",
    "    if (ep % interval == 0) and not((load_model==True) and (ep == epoch_to_load)):\n",
    "        agent.model.save_weights(path_models)\n",
    "\n",
    "        overlap = overlap\n",
    "        results_train = np.empty(shape=(0, 3))\n",
    "        results_test = np.empty(shape=(0, 3))\n",
    "\n",
    "        size_test = ((len(env.eval_data)-env.len_obs-env.len_window) // overlap)+1\n",
    "        cagr_train, vol_train = get_performance(env, agent, train_data=True, training=False, batch_size=size_test)\n",
    "        results_train = np.array([np.tile(ep, size_test), cagr_train, vol_train]).transpose()\n",
    "\n",
    "        cagr_test, vol_test = get_performance(env, agent, train_data=False, training=False, overlap=overlap, batch_size=size_test)\n",
    "        results_test = np.array([np.tile(ep, size_test), cagr_test, vol_test]).transpose()\n",
    "\n",
    "        train_statistics = pd.concat([train_statistics, pd.DataFrame(results_train, columns=['epoch', 'cagr','volatility'])])\n",
    "        train_statistics.to_csv(path_stats+'train.csv', index=False)\n",
    "        test_statistics = pd.concat([test_statistics, pd.DataFrame(results_test, columns=['epoch', 'cagr','volatility'])])\n",
    "        test_statistics.to_csv(path_stats+'test.csv', index=False)"
   ]
  },
  {
   "cell_type": "markdown",
   "metadata": {},
   "source": [
    "        plot_stocks_trading_performance(results_train, path_imgs + f'train_cagr_vol_ep_{ep}',\n",
    "                                        color='royalblue', acc_title='Train')\n",
    "        plot_stocks_trading_performance(results_test, path_imgs + f'test_cagr_vol_ep_{ep}',\n",
    "                                        color='firebrick', acc_title='Test')"
   ]
  },
  {
   "cell_type": "code",
   "execution_count": null,
   "metadata": {},
   "outputs": [],
   "source": [
    "plt.figure(figsize=(8,4))\n",
    "plt.plot(np.mean(worth,axis=-1))"
   ]
  },
  {
   "cell_type": "code",
   "execution_count": null,
   "metadata": {},
   "outputs": [],
   "source": [
    "plot_stocks_trading_performance(train_statistics)"
   ]
  },
  {
   "cell_type": "code",
   "execution_count": 20,
   "metadata": {},
   "outputs": [
    {
     "data": {
      "text/plain": [
       "1045.0000233226244"
      ]
     },
     "execution_count": 20,
     "metadata": {},
     "output_type": "execute_result"
    }
   ],
   "source": [
    "np.mean(worth)"
   ]
  },
  {
   "cell_type": "markdown",
   "metadata": {},
   "source": [
    "1049.890100331017"
   ]
  }
 ],
 "metadata": {
  "kernelspec": {
   "display_name": "Python 3",
   "language": "python",
   "name": "python3"
  },
  "language_info": {
   "codemirror_mode": {
    "name": "ipython",
    "version": 3
   },
   "file_extension": ".py",
   "mimetype": "text/x-python",
   "name": "python",
   "nbconvert_exporter": "python",
   "pygments_lexer": "ipython3",
   "version": "3.7.3"
  }
 },
 "nbformat": 4,
 "nbformat_minor": 4
}
